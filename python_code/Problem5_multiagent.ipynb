{
 "cells": [
  {
   "cell_type": "code",
   "execution_count": 49,
   "metadata": {
    "collapsed": true
   },
   "outputs": [],
   "source": [
    "import pandas as pd\n",
    "from IPython.display import clear_output"
   ]
  },
  {
   "cell_type": "code",
   "execution_count": 50,
   "metadata": {
    "collapsed": true
   },
   "outputs": [],
   "source": [
    "valid = pd.read_csv('data/validation.csv')"
   ]
  },
  {
   "cell_type": "code",
   "execution_count": 51,
   "metadata": {
    "collapsed": true
   },
   "outputs": [],
   "source": [
    "agents = ['logistic valid.csv', 'xgb linear.csv', 'xgb ortb1.csv', 'validation_bidding_price_catboost_ORTB1.csv',\n",
    "          'validation_bidding_price_catboost_ORTB2.csv', 'validation_bidding_price_decision_tree_linear.csv',\n",
    "          'validation_bidding_price_random_forest_linear.csv']\n",
    "clicks = [0] * len(agents)\n",
    "CTRs = [0] * len(agents)\n",
    "spends = [0] * len(agents)\n",
    "CPM = [0] * len(agents)\n",
    "CPC = [0] * len(agents)\n",
    "imps = [0] * len(agents)\n",
    "budget = 6250 * 1000"
   ]
  },
  {
   "cell_type": "code",
   "execution_count": 52,
   "metadata": {
    "collapsed": true
   },
   "outputs": [],
   "source": [
    "agent_bids = []\n",
    "for i in agents:\n",
    "    agent_bids.append(pd.read_csv(i))"
   ]
  },
  {
   "cell_type": "code",
   "execution_count": 59,
   "metadata": {
    "collapsed": true
   },
   "outputs": [],
   "source": [
    "total = len(valid)\n",
    "for i in range(total):\n",
    "    print(i,total)\n",
    "    agent_id = -1\n",
    "    first_bid = float(valid.iloc[i,:]['payprice'])\n",
    "    second_bid = first_bid\n",
    "    for j in range(len(agent_bids)):\n",
    "        bid = float(agent_bids[j].iloc[i,:]['bidprice'])\n",
    "        if not bid > budget - spends[j]:   \n",
    "            if bid > first_bid:\n",
    "                agent_id = j\n",
    "                second_bid = first_bid\n",
    "                first_bid = bid\n",
    "    if not agent_id == -1:\n",
    "        imps[agent_id] += 1\n",
    "        clicks[agent_id] += int(valid.iloc[i,:]['click'])\n",
    "        spends[agent_id] += second_bid\n",
    "    clear_output()"
   ]
  },
  {
   "cell_type": "code",
   "execution_count": 60,
   "metadata": {
    "collapsed": true
   },
   "outputs": [],
   "source": [
    "for i in range(len(spends)):\n",
    "    spends[i] /= 1000"
   ]
  },
  {
   "cell_type": "code",
   "execution_count": 61,
   "metadata": {
    "collapsed": true
   },
   "outputs": [],
   "source": [
    "for i in range(len(agent_bids)):\n",
    "    CTRs[i] = clicks[i] / max(imps[i], 1)\n",
    "    CPM[i] = spends[i] / max(imps[i], 1) * 1000\n",
    "    CPC[i] = spends[i] / max(clicks[i], 1)"
   ]
  },
  {
   "cell_type": "code",
   "execution_count": 71,
   "metadata": {},
   "outputs": [
    {
     "name": "stdout",
     "output_type": "stream",
     "text": [
      "[51, 29, 3, 10, 0, 35, 26]\n",
      "[0.0006268590673320386, 0.0013868298981397351, 0.00023388165588212364, 0.00020195492366103886, 0.0, 0.0008631957974696031, 0.0024051803885291397]\n",
      "[4337.543, 2519.371235278022, 838.5165413656035, 2831.545572789542, 0.0, 4588.563086089734, 3156.255936709556]\n",
      "[53.31427763711005, 120.48066736540683, 65.37121239304619, 57.18445699954645, 0.0, 113.16652492390888, 291.9755723135574]\n",
      "[85.04986274509804, 86.87487018200076, 279.50551378853453, 283.1545572789542, 0.0, 131.10180245970668, 121.3944591042137]\n"
     ]
    }
   ],
   "source": [
    "print(clicks)\n",
    "print(CTRs)\n",
    "print(spends)\n",
    "print(CPM)\n",
    "print(CPC)"
   ]
  }
 ],
 "metadata": {
  "kernelspec": {
   "display_name": "Python 3",
   "language": "python",
   "name": "python3"
  },
  "language_info": {
   "codemirror_mode": {
    "name": "ipython",
    "version": 3
   },
   "file_extension": ".py",
   "mimetype": "text/x-python",
   "name": "python",
   "nbconvert_exporter": "python",
   "pygments_lexer": "ipython3",
   "version": "3.6.1"
  }
 },
 "nbformat": 4,
 "nbformat_minor": 2
}
