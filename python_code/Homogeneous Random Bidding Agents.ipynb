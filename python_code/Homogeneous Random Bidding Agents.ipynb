{
 "cells": [
  {
   "cell_type": "code",
   "execution_count": 1,
   "metadata": {
    "collapsed": true
   },
   "outputs": [],
   "source": [
    "import random\n",
    "import csv"
   ]
  },
  {
   "cell_type": "code",
   "execution_count": 2,
   "metadata": {
    "collapsed": true
   },
   "outputs": [],
   "source": [
    "def random_agents(budget, num_agents, bid_lower_bound, bid_upper_bound):\n",
    "    # init agents profiles\n",
    "    spend = [0] * num_agents\n",
    "    num_imps = [0] * num_agents\n",
    "    clicks = [0] * num_agents\n",
    "\n",
    "    # evaluate on validation.csv\n",
    "    f = open('data/validation.csv', 'r')\n",
    "    rows_validation = f.readlines()[1:]\n",
    "    f.close()\n",
    "    \n",
    "    # eval all bids\n",
    "    for row in rows_validation:\n",
    "        payprice = int(row.split(',')[21])\n",
    "    \n",
    "        largest_bid = 0\n",
    "        second_bid = 0\n",
    "        agent = -1\n",
    "        \n",
    "        # find largest bid, second largest bid and agent\n",
    "        for i in range(num_agents):\n",
    "            curr_bid = random.randint(bid_lower_bound, bid_upper_bound)\n",
    "            if curr_bid > budget - spend[i]:\n",
    "                curr_bid = budget - spend[i]\n",
    "            # update second_bid\n",
    "            if curr_bid == largest_bid:\n",
    "                second_bid = largest_bid\n",
    "                if random.randint(0, 1) == 1:\n",
    "                    agent = i\n",
    "            elif curr_bid > largest_bid:\n",
    "                second_bid = largest_bid\n",
    "                largest_bid = curr_bid\n",
    "                agent = i\n",
    "        \n",
    "        # update agnets profiles\n",
    "        if largest_bid >= payprice:\n",
    "            spend[agent] += max(payprice, second_bid)\n",
    "            num_imps[agent] += 1\n",
    "            if row.split(',')[0] == '1':\n",
    "                clicks[agent] += 1\n",
    "                \n",
    "    return spend, num_imps, clicks"
   ]
  },
  {
   "cell_type": "code",
   "execution_count": 5,
   "metadata": {},
   "outputs": [
    {
     "name": "stdout",
     "output_type": "stream",
     "text": [
      "0.0\n",
      "0.0196078431372549\n",
      "0.0392156862745098\n",
      "0.058823529411764705\n",
      "0.0784313725490196\n",
      "0.09803921568627451\n",
      "0.11764705882352941\n",
      "0.13725490196078433\n",
      "0.1568627450980392\n",
      "0.17647058823529413\n",
      "0.19607843137254902\n",
      "0.21568627450980393\n",
      "0.23529411764705882\n",
      "0.2549019607843137\n",
      "0.27450980392156865\n",
      "0.29411764705882354\n",
      "0.3137254901960784\n",
      "0.3333333333333333\n",
      "0.35294117647058826\n",
      "0.37254901960784315\n",
      "0.39215686274509803\n",
      "0.4117647058823529\n",
      "0.43137254901960786\n",
      "0.45098039215686275\n",
      "0.47058823529411764\n",
      "0.49019607843137253\n",
      "0.5098039215686274\n",
      "0.5294117647058824\n",
      "0.5490196078431373\n",
      "0.5686274509803921\n",
      "0.5882352941176471\n",
      "0.6078431372549019\n",
      "0.6274509803921569\n",
      "0.6470588235294118\n",
      "0.6666666666666666\n",
      "0.6862745098039216\n",
      "0.7058823529411765\n",
      "0.7254901960784313\n",
      "0.7450980392156863\n",
      "0.7647058823529411\n",
      "0.7843137254901961\n",
      "0.803921568627451\n",
      "0.8235294117647058\n",
      "0.8431372549019608\n",
      "0.8627450980392157\n",
      "0.8823529411764706\n",
      "0.9019607843137255\n",
      "0.9215686274509803\n",
      "0.9411764705882353\n",
      "0.9607843137254902\n",
      "0.9803921568627451\n"
     ]
    }
   ],
   "source": [
    "# tune num agents\n",
    "budget = 6750 * 1000\n",
    "bid_lower_bound = 30\n",
    "bid_upper_bound = 130\n",
    "\n",
    "result = []\n",
    "\n",
    "for num_agents in range(50, 101):\n",
    "    print((num_agents - 50) / 51)\n",
    "    total_spend, total_imps, total_clicks = random_agents(budget, num_agents, bid_lower_bound, bid_upper_bound)\n",
    "\n",
    "    clicks = 0\n",
    "    CTR = 0\n",
    "    spend = 0\n",
    "    avgCPM = 0\n",
    "    avgCPC = 0\n",
    "    imp = 0\n",
    "    for i in range(num_agents):\n",
    "        clicks += total_clicks[i]\n",
    "        imp += total_imps[i]\n",
    "        if total_imps[i] != 0:\n",
    "            CTR += total_clicks[i] / total_imps[i]\n",
    "        spend += total_spend[i]\n",
    "        if total_clicks[i] != 0:\n",
    "            total_spend[i] /= 1000\n",
    "            avgCPM = total_spend[i] / imp * 1000\n",
    "            avgCPC = total_spend[i] / total_clicks[i]\n",
    "    market = [num_agents, bid_lower_bound, bid_upper_bound, clicks, CTR, spend / 1000, avgCPM, avgCPC]\n",
    "    result.append(market)"
   ]
  },
  {
   "cell_type": "code",
   "execution_count": 6,
   "metadata": {
    "collapsed": true
   },
   "outputs": [],
   "source": [
    "with open('result' + '_' + str(bid_lower_bound) + '_' + str(bid_upper_bound) + '.csv', 'w', newline='') as myFile:\n",
    "    writer = csv.writer(myFile)\n",
    "    writer.writerows(result)"
   ]
  }
 ],
 "metadata": {
  "kernelspec": {
   "display_name": "Python 3",
   "language": "python",
   "name": "python3"
  },
  "language_info": {
   "codemirror_mode": {
    "name": "ipython",
    "version": 3
   },
   "file_extension": ".py",
   "mimetype": "text/x-python",
   "name": "python",
   "nbconvert_exporter": "python",
   "pygments_lexer": "ipython3",
   "version": "3.6.1"
  }
 },
 "nbformat": 4,
 "nbformat_minor": 2
}
